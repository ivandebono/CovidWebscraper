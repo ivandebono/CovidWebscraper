{
 "cells": [
  {
   "cell_type": "code",
   "execution_count": 2,
   "metadata": {},
   "outputs": [
    {
     "name": "stdout",
     "output_type": "stream",
     "text": [
      "The autoreload extension is already loaded. To reload it, use:\n",
      "  %reload_ext autoreload\n"
     ]
    }
   ],
   "source": [
    "%load_ext autoreload\n",
    "%autoreload 2\n",
    "\n",
    "import seaborn as sns\n",
    "sns.set_context('talk')\n",
    "import pandas as pd\n",
    "import numpy as np\n",
    "from matplotlib import pyplot as plt\n",
    "%config InlineBackend.figure_format = 'retina'\n",
    "from datetime import timedelta\n",
    "import datetime as dt\n",
    "import scipy\n",
    "import matplotlib.dates as mdates\n",
    "import matplotlib.cbook as cbook\n",
    "from matplotlib.dates import MonthLocator, WeekdayLocator, DateFormatter\n",
    "import pickle\n",
    "\n",
    "from get_data.get_euromomo_data import get_euromomo_data\n",
    "from get_data.get_data import get_ecdc_data,\\\n",
    "                        get_data_UK,\\\n",
    "                        get_data_Spain, \\\n",
    "                        get_data_Austria, \\\n",
    "                        get_data_Malta, \\\n",
    "                        get_data_Italy, \\\n",
    "                        get_data_Belgium,\\\n",
    "                        get_data_France, \\\n",
    "                        get_data_Portugal, \\\n",
    "                        get_data_Berlin,\\\n",
    "                        get_data_Norway,\\\n",
    "                        get_data_Netherlands,\\\n",
    "                        get_data_Denmark,\\\n",
    "                        get_data_Switzerland,\\\n",
    "                        get_data_Ireland,\\\n",
    "                        get_data_Greece,\\\n",
    "                        get_data_Luxemburg,\\\n",
    "                        get_data_Estonia,\\\n",
    "                        get_data_Sweden,\\\n",
    "                        get_data_Hesse,\\\n",
    "                        get_data_Slovenia"
   ]
  },
  {
   "cell_type": "markdown",
   "metadata": {},
   "source": [
    "# Some of examples of web scraping using modules in this package"
   ]
  },
  {
   "cell_type": "markdown",
   "metadata": {},
   "source": [
    "## Get ECDC data and group all Europe"
   ]
  },
  {
   "cell_type": "code",
   "execution_count": 3,
   "metadata": {},
   "outputs": [],
   "source": [
    "ecdc_data=get_ecdc_data(continent='Europe')\n",
    "ecdc_europe=ecdc_data.groupby(by='date',as_index=False).sum()\n",
    "ecdc_europe.deaths.clip(0,inplace=True)\n",
    "ecdc_europe['state']='Europe'\n",
    "ecdc_europe['datasource']='ecdc.europa.eu'\n",
    "\n",
    "\n"
   ]
  },
  {
   "cell_type": "markdown",
   "metadata": {},
   "source": [
    "## Print list of countries in ECDC Europe"
   ]
  },
  {
   "cell_type": "code",
   "execution_count": 4,
   "metadata": {},
   "outputs": [
    {
     "name": "stdout",
     "output_type": "stream",
     "text": [
      "Countries in this data set:\n",
      " 'Albania' 'Andorra' 'Armenia' 'Austria' 'Azerbaijan' 'Belarus' 'Belgium'\n",
      " 'Bosnia and Herzegovina' 'Bulgaria' 'Croatia' 'Cyprus' 'Czech Republic'\n",
      " 'Denmark' 'Estonia' 'Faroe_Islands' 'Finland' 'France' 'Georgia'\n",
      " 'Germany' 'Gibraltar' 'Greece' 'Guernsey' 'Holy_See' 'Hungary' 'Iceland'\n",
      " 'Ireland' 'Isle_of_Man' 'Italy' 'Jersey' 'Kosovo' 'Latvia'\n",
      " 'Liechtenstein' 'Lithuania' 'Luxembourg' 'Malta' 'Moldova' 'Monaco'\n",
      " 'Montenegro' 'Netherlands' 'North_Macedonia' 'Norway' 'Poland' 'Portugal'\n",
      " 'Romania' 'Russia' 'San_Marino' 'Serbia' 'Slovakia' 'Slovenia' 'Spain'\n",
      " 'Sweden' 'Switzerland' 'Turkey' 'Ukraine' 'United Kingdom'\n"
     ]
    }
   ],
   "source": [
    "\n",
    "from pprint import pprint\n",
    "countries=(str(ecdc_data.state.unique())).strip('[]')\n",
    "print('Countries in this data set:\\n', countries)\n"
   ]
  },
  {
   "cell_type": "code",
   "execution_count": 10,
   "metadata": {},
   "outputs": [
    {
     "data": {
      "text/plain": [
       "<Response [404]>"
      ]
     },
     "execution_count": 10,
     "metadata": {},
     "output_type": "execute_result"
    }
   ],
   "source": [
    "import json\n",
    "import requests\n",
    "pd.read_csv()"
   ]
  },
  {
   "cell_type": "markdown",
   "metadata": {},
   "source": [
    "# Get Covid data for individual Euromomo countries"
   ]
  },
  {
   "cell_type": "code",
   "execution_count": 12,
   "metadata": {},
   "outputs": [],
   "source": [
    "countries=['Austria', 'Belgium','Cyprus', 'Denmark', 'Estonia', 'Finland', 'France','Germany (Berlin)',\n",
    "           'Germany (Hesse)','Greece', 'Hungary','Ireland', 'Italy', 'Luxembourg', 'Malta',\n",
    "           'Netherlands', 'Norway', 'Portugal','Slovenia','Spain', 'Sweden', \n",
    "           'Switzerland', 'UK']\n",
    " \n",
    "\n",
    "\n",
    "\n",
    "FI=ecdc_data[ecdc_data.state=='Finland']\n",
    "HU=ecdc_data[ecdc_data.state=='Hungary']\n",
    "CY=ecdc_data[ecdc_data.state=='Cyprus']\n",
    "\n",
    "ES=get_data_Spain()\n",
    "AT=get_data_Austria()\n",
    "MT=get_data_Malta()\n",
    "IT=get_data_Italy()\n",
    "BE=get_data_Belgium()\n",
    "FR=get_data_France()\n",
    "PT=get_data_Portugal()\n",
    "Berlin=get_data_Berlin()\n",
    "NO=get_data_Norway()\n",
    "NL=get_data_Netherlands()\n",
    "DK=get_data_Denmark()\n",
    "CH=get_data_Switzerland()\n",
    "IE=get_data_Ireland()\n",
    "GR=get_data_Greece()\n",
    "LU=get_data_Luxemburg()\n",
    "EE=get_data_Estonia()\n",
    "SE=get_data_Sweden()\n",
    "Hesse=get_data_Hesse()\n",
    "UK=get_data_UK()\n",
    "SO=get_data_Slovenia()"
   ]
  },
  {
   "cell_type": "markdown",
   "metadata": {},
   "source": [
    "### Make a single dataframe containing Covid data for all EuroMOMO countries"
   ]
  },
  {
   "cell_type": "code",
   "execution_count": null,
   "metadata": {
    "scrolled": true
   },
   "outputs": [],
   "source": [
    "\n",
    "\n",
    "df=pd.concat([FI,HU,CY,ES,AT,MT,IT,BE,FR,PT,Berlin,\n",
    "              NO,NL,DK,CH,IE,GR,LU,EE,SE,SO,Hesse,UK])\n",
    "\n",
    "\n",
    "if len(countries)==len(df.state.unique()):\n",
    "    print('All Euromomo countries done')\n",
    "else: print('Something is wrong')\n",
    "\n",
    "# Convert all timestamps to same time zone\n",
    "df['date']=pd.to_datetime(df.date,utc=True)\n"
   ]
  },
  {
   "cell_type": "code",
   "execution_count": null,
   "metadata": {},
   "outputs": [],
   "source": [
    "# Inspect dataframe \n",
    "df"
   ]
  },
  {
   "cell_type": "code",
   "execution_count": null,
   "metadata": {},
   "outputs": [],
   "source": [
    "# Get list of countries and datasource\n",
    "datasources=df.drop_duplicates('state',ignore_index=True)\n",
    "datasources=datasources[['state','datasource']]\n",
    "datasources=datasources.sort_values(by='state').reset_index()\n",
    "# Get only relevant columns\n",
    "\n",
    "## Output the list of data sources\n",
    "\n",
    "fig, ax = plt.subplots(figsize=(12, 5)) # set size frame\n",
    "ax.xaxis.set_visible(False)  # hide the x axis\n",
    "ax.yaxis.set_visible(False)  # hide the y axis\n",
    "ax.set_frame_on(False) \n",
    "\n",
    "fig=pd.plotting.table(ax,datasources[['state','datasource']],loc='upper right')  # where df is your data frame\n",
    "fig.set_fontsize(30)\n",
    "\n",
    "plt.savefig('plots/Euromomo_data_sources.png',dpi=200)\n",
    "\n"
   ]
  },
  {
   "cell_type": "code",
   "execution_count": null,
   "metadata": {},
   "outputs": [],
   "source": [
    "\n",
    "# Now group by date\n",
    "df=df[['date','positive','deaths','total']].groupby(by='date',as_index=False).sum()"
   ]
  },
  {
   "cell_type": "code",
   "execution_count": null,
   "metadata": {
    "scrolled": true
   },
   "outputs": [],
   "source": [
    "df.tail()\n"
   ]
  },
  {
   "cell_type": "markdown",
   "metadata": {},
   "source": [
    "# Get EU/EEA & UK test and other data"
   ]
  },
  {
   "cell_type": "code",
   "execution_count": null,
   "metadata": {},
   "outputs": [],
   "source": [
    "# Get EU/EEA & UK Tests\n",
    "\n",
    "from get_data.get_data_ecdc import get_data_ecdc_tests\n",
    "\n",
    "EUtestdf=get_data_ecdc_tests()\n",
    "\n",
    "# Get other data only for only EU/EEA & UK \n",
    "ecdc_EUtest=ecdc_data[ecdc_data.state.isin(list(EUtestdf.country.unique()))]\n",
    "\n",
    "#from pprint import pprint\n",
    "countries=(str(ecdc_EUtest.state.unique())).strip('[]')\n",
    "print('EU cases & deaths: Countries in this data set:\\n', countries)\n",
    "\n",
    "ecdc_EUtest=ecdc_EUtest.groupby(by='date',as_index=False).sum()\n",
    "ecdc_EUtest.deaths.clip(0,inplace=True)\n",
    "ecdc_EUtest['state']='EU/EEA & UK'\n",
    "ecdc_EUtest['datasource']='ecdc.europa.eu'\n",
    "ecdc_EUtest['positive_avg']=ecdc_EUtest.positive.rolling(window=7,center=True).mean()\n",
    "\n",
    "print('EU tests: Countries in this data set:\\n', (str(EUtestdf.country.unique())).strip('[]'))\n",
    "\n",
    "#EUtest['date']=pd.to_datetime(EUtest.date)\n",
    "EUtest=EUtestdf.groupby('year_week',as_index=False).sum()\n",
    "\n",
    "#(EUtest['year_week'].apply(str)).strip()\n",
    "\n",
    "EUtest['date']=pd.to_datetime(EUtestdf.year_week.add('-0'), format='%Y-W%W-%w')-dt.timedelta(5)\n",
    "\n",
    "from dataframe_utilities import ECDC_week2day\n",
    "\n",
    "EUtestdaily=ECDC_week2day(EUtest,'tests_done','dailytests')\n",
    "EUtestdaily['dailytestsavg']=EUtestdaily.dailytests.rolling(window=7,center=False).mean()"
   ]
  },
  {
   "cell_type": "code",
   "execution_count": null,
   "metadata": {},
   "outputs": [],
   "source": [
    "EUtest"
   ]
  },
  {
   "cell_type": "code",
   "execution_count": null,
   "metadata": {},
   "outputs": [],
   "source": [
    "EUtestdaily"
   ]
  },
  {
   "cell_type": "code",
   "execution_count": null,
   "metadata": {},
   "outputs": [],
   "source": [
    "# Get total of Covid deaths\n",
    "covid=df.groupby('date',as_index=False)[('deaths','positive')].agg('sum')\n",
    "covid['date']=covid.date.dt.tz_localize(None)\n",
    "\n",
    "\n",
    "fig, ax = plt.subplots(figsize=(15, 8))\n",
    "plt.title('Official Covid numbers in Euromomo countries')\n",
    "covid.plot(x='date',y='positive',ax=ax,color='blue',label='cases')#\n",
    "covid.plot(x='date',y='deaths',ax=ax,color='red',label='deaths')#\n",
    "plt.legend()\n",
    "plt.ylabel('daily numbers')\n",
    "\n",
    "fig.set_facecolor('w')\n",
    "\n",
    "sns.despine;\n",
    "plt.savefig('OfficialCovid_CasesDeaths.png',dpi=250)\n",
    "plt.show()\n",
    "\n",
    "\n",
    "# Get total of Covid deaths\n",
    "#covid=df.groupby('date',as_index=False)[('deaths','positive')].agg('sum')\n",
    "#covid['date']=covid.date.dt.tz_localize(None)\n",
    "\n",
    "\n",
    "fig, ax = plt.subplots(figsize=(15, 8))\n",
    "plt.title('Official Covid deaths in Euromomo countries')\n",
    "\n",
    "covid.plot(x='date',y='deaths',ax=ax,color='red',legend=False)#\n",
    "#plt.legend()\n",
    "plt.ylabel('daily deaths')\n",
    "\n",
    "fig.set_facecolor('w')\n",
    "\n",
    "sns.despine;\n",
    "plt.savefig('OfficialCovidDeaths.png',dpi=250)\n",
    "plt.show()\n",
    "\n",
    "\n"
   ]
  },
  {
   "cell_type": "markdown",
   "metadata": {},
   "source": [
    "# Get Euromomo data"
   ]
  },
  {
   "cell_type": "code",
   "execution_count": null,
   "metadata": {},
   "outputs": [],
   "source": [
    "data=get_euromomo_data()\n",
    "data.tail()"
   ]
  },
  {
   "cell_type": "markdown",
   "metadata": {},
   "source": [
    "#  Plot Euromomo deaths & baseline graph"
   ]
  },
  {
   "cell_type": "code",
   "execution_count": null,
   "metadata": {},
   "outputs": [],
   "source": [
    "def weekdiff(start, end):\n",
    "    days = pd.to_datetime(end) - pd.to_datetime(start)\n",
    "    week = int(pd.Timedelta(days).days / 7)\n",
    "    remainder = pd.Timedelta(days).days % 7\n",
    "    #print(week)\n",
    "    return week\n",
    "\n"
   ]
  },
  {
   "cell_type": "code",
   "execution_count": null,
   "metadata": {},
   "outputs": [],
   "source": [
    "yearlyintervals=[]\n",
    "for i in np.arange(4):\n",
    "    yearlyintervals.append(data.date.iloc[-1-i*52])\n",
    "    \n",
    "    \n",
    "for yearlyinterval in yearlyintervals: print(yearlyinterval)\n",
    "    \n",
    "year_to_year_interval=[]\n",
    "for i in np.arange(1,len(yearlyintervals)):\n",
    "\n",
    "    year_to_year_interval.append(weekdiff(yearlyintervals[i],yearlyintervals[i-1]))\n",
    "    \n",
    "yearlyindices=data[data.date.isin(yearlyintervals)].index\n",
    "    \n",
    "#Find the cumulative sum of deaths for every year starting from latest date in series, going backwards\n",
    "\n",
    "\n",
    "yearly_totaldeathsarray=[]\n",
    "\n",
    "\n",
    "for i in np.arange(len(yearlyintervals)-1):\n",
    "    yearly_totaldeaths=data.deaths.iloc[yearlyindices[i]:yearlyindices[i+1]].sum()\n",
    "    yearly_totaldeathsarray.append(yearly_totaldeaths)\n",
    "    \n",
    "    "
   ]
  },
  {
   "cell_type": "code",
   "execution_count": null,
   "metadata": {},
   "outputs": [],
   "source": [
    "yearly_totaldeathsarray"
   ]
  },
  {
   "cell_type": "code",
   "execution_count": null,
   "metadata": {},
   "outputs": [],
   "source": [
    "data.to_pickle('Euromomodata_week50.pkl')"
   ]
  },
  {
   "cell_type": "code",
   "execution_count": null,
   "metadata": {},
   "outputs": [],
   "source": [
    "\n",
    "fig, ax = plt.subplots(figsize=(15, 8))\n",
    "\n",
    "data.plot(x=\"date\", y=\"deaths\",color='blue',ax=ax,legend=True,label='Deaths')\n",
    "\n",
    "\n",
    "wrtbaseline=False\n",
    "wrtpeaks=False\n",
    "wrtdate=True\n",
    "\n",
    "\n",
    "if wrtpeaks:\n",
    "    \n",
    "    plt.title('All-age deaths in EUROMOMO countries')\n",
    "\n",
    "    for i in np.arange(len(troughs)):\n",
    "        plt.axvline(data.date.iloc[troughs[i]],ymax=0.9,color='gray',alpha=0.5,linestyle=':')\n",
    "    for i in np.arange(len(troughs)-1):\n",
    "        ax.annotate('{} - {}'.format(intervaldates[i][0],intervaldates[i][1]), xy=(data.date.iloc[peaks[i]], data.deaths.iloc[troughs[i]]  ),\n",
    "                    xytext=(data.date.iloc[troughs[i]+5], 1.05*data.deaths.iloc[peaks[i]]+6000),size=12)\n",
    "        ax.annotate('{:,} weeks'.format(trough_to_trough_interval[i]), xy=(data.date.iloc[peaks[i]], data.deaths.iloc[troughs[i]]  ),\n",
    "                    xytext=(data.date.iloc[troughs[i]+5], 1.05*data.deaths.iloc[peaks[i]]+3000))\n",
    "        ax.annotate('{:,} deaths'.format(int(totaldeathsarray[i])), xy=(data.date.iloc[peaks[i]], data.deaths.iloc[troughs[i]]  ),\n",
    "                    xytext=(data.date.iloc[troughs[i]+5], 1.05*data.deaths.iloc[peaks[i]]))\n",
    "        \n",
    "elif wrtbaseline:\n",
    "    \n",
    "    plt.title('All-age deaths in EUROMOMO countries \\n with total deaths between troughs in baseline')\n",
    "    \n",
    "    for i in np.arange(len(baseline_troughs)):\n",
    "        plt.axvline(data.date.iloc[baseline_troughs[i]],ymax=0.9,color='gray',alpha=0.5,linestyle=':')\n",
    "    for i in np.arange(len(baseline_troughs)-1):\n",
    "        ax.annotate('{} - {}'.format(baseline_intervaldates[i][0],baseline_intervaldates[i][1]),\n",
    "                    xy=(data.date.iloc[baseline_peaks[i]], data.deaths.iloc[baseline_troughs[i]]  ),\n",
    "                    xytext=(data.date.iloc[baseline_troughs[i]+5], \n",
    "                            1.1*data.deaths.iloc[baseline_peaks[i]]+6000),size=12)\n",
    "        ax.annotate('{:,} weeks'.format(baseline_trough_to_trough_interval[i]),\n",
    "                    xy=(data.date.iloc[baseline_peaks[i]], data.deaths.iloc[baseline_troughs[i]]  ),\n",
    "                    xytext=(data.date.iloc[baseline_troughs[i]+5], 1.1*data.deaths.iloc[baseline_peaks[i]]+3000))\n",
    "        ax.annotate('{:,} deaths'.format(int(baseline_totaldeathsarray[i])), \n",
    "                    xy=(data.date.iloc[baseline_peaks[i]], data.deaths.iloc[baseline_troughs[i]]  ),\n",
    "                    xytext=(data.date.iloc[baseline_troughs[i]+5], 1.1*data.deaths.iloc[baseline_peaks[i]]))\n",
    "        \n",
    "elif wrtdate:\n",
    "    \n",
    "    plt.title('All-age deaths in EUROMOMO countries \\n with total deaths for 52-week period')\n",
    "    \n",
    "    for i in np.arange(1,len(yearlyindices)):\n",
    "        plt.axvline(data.date.iloc[yearlyindices[i-1]],ymax=0.9,color='gray',alpha=0.5,linestyle=':')\n",
    "    for i in np.arange(1,len(yearlyindices)):\n",
    "        ax.annotate('{} - {}'.format(data.date.iloc[yearlyindices[i-1]].strftime(\"%d %b %Y\"),data.date.iloc[yearlyindices[i]].strftime(\"%d %b %Y\")),\n",
    "                    xy=(data.date.iloc[yearlyindices[i-1]], data.deaths.iloc[yearlyindices[i-1]] ),\n",
    "                    xytext=(data.date.iloc[yearlyindices[i-1]+4], \n",
    "                            1.3*data.deaths.iloc[yearlyindices[i]]+6000),size=12)\n",
    "#         ax.annotate('{:,} weeks'.format(baseline_trough_to_trough_interval[i]),\n",
    "#                     xy=(data.date.iloc[baseline_peaks[i]], data.deaths.iloc[baseline_troughs[i]]  ),\n",
    "#                     xytext=(data.date.iloc[baseline_troughs[i]+5], 1.1*data.deaths.iloc[baseline_peaks[i]]+3000))\n",
    "        ax.annotate('{:,} deaths'.format(int(yearly_totaldeathsarray[i-1])), \n",
    "                    xy=(data.date.iloc[yearlyindices[i-1]], data.deaths.iloc[yearlyindices[i-1]] ),\n",
    "                    xytext=(data.date.iloc[yearlyindices[i-1]+4], 1.28*data.deaths.iloc[yearlyindices[i]]))\n",
    "            \n",
    "    \n",
    "#sns.set(font_scale=5) \n",
    "#sns.set_style(\"ticks\", {\"xtick.major.size\": 8, \"ytick.major.size\": 8})\n",
    "\n",
    "\n",
    "\n",
    "\n",
    "ax.xaxis.set_major_locator(mdates.YearLocator())\n",
    "\n",
    "ax.xaxis.set_major_locator(mdates.MonthLocator(interval=3))\n",
    "\n",
    "ax.xaxis.set_minor_locator(mdates.MonthLocator())\n",
    "\n",
    "\n",
    "#plt.vlines(x=data.date.iloc[peaks], ymin=contour_heights, ymax=data.deaths.iloc[peaks])\n",
    "\n",
    "#ax.xaxis.set_minor_locator(mdates.WeekdayLocator())\n",
    "#set major ticks format\n",
    "ax.xaxis.set_major_formatter(mdates.DateFormatter('%b %Y'))\n",
    "ax.get_xaxis().set_tick_params(which='major', pad=5)\n",
    "\n",
    "data.plot(x='date',y='baseline',color='orange',ax=ax,label='Euromomo baseline',alpha=0.5)\n",
    "\n",
    "ax.fill_between(data.date,data.baseline_upper,data.baseline_lower, alpha=0.35,color='orange')\n",
    "\n",
    "\n",
    "#x.plot(x=\"date\", y=\"deaths\",color='green',ax=ax,legend=False)\n",
    "\n",
    "\n",
    "ax.legend(fancybox=True, framealpha=1, shadow=False, borderpad=1,\n",
    "          loc='upper left',fontsize='small',facecolor='white')\n",
    "\n",
    "fig.set_facecolor('w')\n",
    "\n",
    "#plt.show()\n",
    "plt.tight_layout();\n",
    "sns.despine;\n",
    "\n",
    "\n",
    "plt.savefig('plots/Euromomo_total_deaths.jpg',dpi=250)\n",
    " "
   ]
  }
 ],
 "metadata": {
  "kernelspec": {
   "display_name": "Python 3",
   "language": "python",
   "name": "python3"
  },
  "language_info": {
   "codemirror_mode": {
    "name": "ipython",
    "version": 3
   },
   "file_extension": ".py",
   "mimetype": "text/x-python",
   "name": "python",
   "nbconvert_exporter": "python",
   "pygments_lexer": "ipython3",
   "version": "3.7.9"
  }
 },
 "nbformat": 4,
 "nbformat_minor": 4
}
